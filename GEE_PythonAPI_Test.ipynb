{
  "nbformat": 4,
  "nbformat_minor": 0,
  "metadata": {
    "colab": {
      "name": "GEE_PythonAPI_Test.ipynb",
      "provenance": [],
      "include_colab_link": true
    },
    "kernelspec": {
      "name": "python3",
      "display_name": "Python 3"
    }
  },
  "cells": [
    {
      "cell_type": "markdown",
      "metadata": {
        "id": "view-in-github",
        "colab_type": "text"
      },
      "source": [
        "<a href=\"https://colab.research.google.com/github/preyankah/APIs/blob/master/GEE_PythonAPI_Test.ipynb\" target=\"_parent\"><img src=\"https://colab.research.google.com/assets/colab-badge.svg\" alt=\"Open In Colab\"/></a>"
      ]
    },
    {
      "cell_type": "code",
      "metadata": {
        "id": "zokcCSwUttBD",
        "colab_type": "code",
        "colab": {}
      },
      "source": [
        "# Install library\n",
        "!pip install earthengine-api"
      ],
      "execution_count": 0,
      "outputs": []
    },
    {
      "cell_type": "code",
      "metadata": {
        "id": "7Q3ZVq-UtvQy",
        "colab_type": "code",
        "colab": {}
      },
      "source": [
        "# Import the Earth Engine library.\n",
        "import ee\n",
        "\n",
        "# Trigger the authentication flow.\n",
        "ee.Authenticate()"
      ],
      "execution_count": 0,
      "outputs": []
    },
    {
      "cell_type": "markdown",
      "metadata": {
        "id": "rhnivGdRuqVg",
        "colab_type": "text"
      },
      "source": [
        "ee.Initialize() initializes the API. Required before API is called else a 404 error is thrown"
      ]
    },
    {
      "cell_type": "code",
      "metadata": {
        "id": "GPH0iFqLulC4",
        "colab_type": "code",
        "colab": {}
      },
      "source": [
        "ee.Initialize()"
      ],
      "execution_count": 0,
      "outputs": []
    },
    {
      "cell_type": "code",
      "metadata": {
        "id": "BIMfol6ztl0t",
        "colab_type": "code",
        "colab": {
          "base_uri": "https://localhost:8080/",
          "height": 852
        },
        "outputId": "91d0aa96-2a83-47f1-b6ac-0c46924264cb"
      },
      "source": [
        "# https://developers.google.com/earth-engine/image_visualization\n",
        "# Import the Folium library \n",
        "# Basemap not automatically added when GEE tiles are added\n",
        "import folium\n",
        "\n",
        "# Define a method for displaying Earth Engine image tiles to folium map\n",
        "# Establish a connection to Google Maps API for adding tile layers from GEE\n",
        "def add_ee_layer(self, eeImageObject, visParams, name):\n",
        "  mapID = ee.Image(eeImageObject).getMapId(visParams)\n",
        "  folium.raster_layers.TileLayer(\n",
        "    tiles = \"https://earthengine.googleapis.com/map/\"+mapID['mapid']+\n",
        "      \"/{z}/{x}/{y}?token=\"+mapID['token'],\n",
        "    attr = \"Map Data &copy; <a href='https://earthengine.google.com/'>Google Earth Engine</a>\",\n",
        "    name = name,\n",
        "    overlay = True,\n",
        "    control = True\n",
        "  ).add_to(self)\n",
        "\n",
        "# Location to extract imagery for using geographic coordinates\n",
        "point = ee.Geometry.Point([-71.8023,42.2626])\n",
        "# Dates\n",
        "startDate = '2018-01-01'\n",
        "endDate = '2019-12-31'\n",
        "\n",
        "# Specify time period of interest\n",
        "fcc = ee.ImageCollection(\"LANDSAT/LC08/C01/T1_TOA\").filterBounds(point).filterDate(startDate, endDate).min()\n",
        "\n",
        "# Set visualization parameters\n",
        "# Check dataset's page for required parameters for visualization\n",
        "# Define dataset from image collection to visualize in the band list\n",
        "\n",
        "# ----FALSE COLOR COMPOSITE------\n",
        "fcc_visParams = {'min': 0,\n",
        "                 'max': 0.5,\n",
        "                 'gamma': [0.95, 1.1, 1],\n",
        "                 'bands': ['B5', 'B4', 'B3']}\n",
        "\n",
        "# ----TRUE COLOR COMPOSITE------\n",
        "tcc_visParams = {'min': 0.0,\n",
        "                 'max': 0.4,\n",
        "                 'bands':['B4', 'B3', 'B2']}\n",
        "\n",
        "# Add the tile layer of interest to the folium map\n",
        "folium.Map.add_ee_layer = add_ee_layer\n",
        "\n",
        "# Create a folium map object\n",
        "# Specify default location for map\n",
        "# Specify basemap: Folium defaults to openstreetmap basemap if a tile isn't specified\n",
        "imageryMap = folium.Map(location=[42.2626,-71.8023], zoom_start=7, height=500, tiles='Stamen Terrain')\n",
        "imageryMap.add_ee_layer(fcc, fcc_visParams, 'False Color Composite')\n",
        "imageryMap.add_ee_layer(fcc, tcc_visParams, 'True Color Composite')\n",
        "\n",
        "# Add a layer control panel to the map\n",
        "# Allows you to turn layers on and off\n",
        "imageryMap.add_child(folium.LayerControl())\n",
        "\n",
        "# Display the map\n",
        "display(imageryMap)"
      ],
      "execution_count": 12,
      "outputs": [
        {
          "output_type": "display_data",
          "data": {
            "text/html": [
              "<div style=\"width:100%;\"><div style=\"position:relative;width:100%;height:0;padding-bottom:60%;\"><iframe src=\"data:text/html;charset=utf-8;base64,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\" style=\"position:absolute;width:100%;height:100%;left:0;top:0;border:none !important;\" allowfullscreen webkitallowfullscreen mozallowfullscreen></iframe></div></div>"
            ],
            "text/plain": [
              "<folium.folium.Map at 0x7f99777bcb70>"
            ]
          },
          "metadata": {
            "tags": []
          }
        }
      ]
    }
  ]
}
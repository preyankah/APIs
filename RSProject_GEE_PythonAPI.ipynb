{
  "nbformat": 4,
  "nbformat_minor": 0,
  "metadata": {
    "colab": {
      "name": "RSProject-GEE_PythonAPI_Test.ipynb",
      "provenance": [],
      "include_colab_link": true
    },
    "kernelspec": {
      "name": "python3",
      "display_name": "Python 3"
    }
  },
  "cells": [
    {
      "cell_type": "markdown",
      "metadata": {
        "id": "view-in-github",
        "colab_type": "text"
      },
      "source": [
        "<a href=\"https://colab.research.google.com/github/verma-priyanka/APIs/blob/master/RSProject_GEE_PythonAPI.ipynb\" target=\"_parent\"><img src=\"https://colab.research.google.com/assets/colab-badge.svg\" alt=\"Open In Colab\"/></a>"
      ]
    },
    {
      "cell_type": "code",
      "metadata": {
        "id": "zokcCSwUttBD",
        "colab_type": "code",
        "colab": {}
      },
      "source": [
        "# Install library\n",
        "!pip install earthengine-api --upgrade"
      ],
      "execution_count": 0,
      "outputs": []
    },
    {
      "cell_type": "code",
      "metadata": {
        "id": "7Q3ZVq-UtvQy",
        "colab_type": "code",
        "outputId": "7185155a-7b10-4da4-ad8e-738e26233752",
        "colab": {
          "base_uri": "https://localhost:8080/",
          "height": 183
        }
      },
      "source": [
        "# Import the Earth Engine library.\n",
        "import ee\n",
        "\n",
        "# Trigger the authentication flow.\n",
        "ee.Authenticate()"
      ],
      "execution_count": 2,
      "outputs": [
        {
          "output_type": "stream",
          "text": [
            "To authorize access needed by Earth Engine, open the following URL in a web browser and follow the instructions. If the web browser does not start automatically, please manually browse the URL below.\n",
            "\n",
            "    https://accounts.google.com/o/oauth2/auth?client_id=517222506229-vsmmajv00ul0bs7p89v5m89qs8eb9359.apps.googleusercontent.com&scope=https%3A%2F%2Fwww.googleapis.com%2Fauth%2Fearthengine+https%3A%2F%2Fwww.googleapis.com%2Fauth%2Fdevstorage.full_control&redirect_uri=urn%3Aietf%3Awg%3Aoauth%3A2.0%3Aoob&response_type=code\n",
            "\n",
            "The authorization workflow will generate a code, which you should paste in the box below. \n",
            "Enter verification code: 4/tgH_1E7Ocb1_hGy1D9oV6gG1HRVirsBNYCpzdDin75boJlxCwJS9P7Y\n",
            "\n",
            "Successfully saved authorization token.\n"
          ],
          "name": "stdout"
        }
      ]
    },
    {
      "cell_type": "markdown",
      "metadata": {
        "id": "rhnivGdRuqVg",
        "colab_type": "text"
      },
      "source": [
        "ee.Initialize() initializes the API. Required before API is called else a 404 error is thrown"
      ]
    },
    {
      "cell_type": "code",
      "metadata": {
        "id": "GPH0iFqLulC4",
        "colab_type": "code",
        "colab": {}
      },
      "source": [
        "ee.Initialize()"
      ],
      "execution_count": 0,
      "outputs": []
    },
    {
      "cell_type": "code",
      "metadata": {
        "id": "7HeA29aCJPlU",
        "colab_type": "code",
        "outputId": "dd32ca5a-cf54-4d26-8aba-84bd032b4719",
        "colab": {
          "base_uri": "https://localhost:8080/",
          "height": 983
        }
      },
      "source": [
        "# https://developers.google.com/earth-engine/image_visualization\n",
        "# stack overflow thread:https://gis.stackexchange.com/questions/342022/trouble-plotting-earth-engine-images-with-folium-using-python\n",
        "# Import the Folium library \n",
        "# Basemap not automatically added when GEE tiles are added\n",
        "import folium\n",
        "\n",
        "## This doesn't work anymore\n",
        "# Define a method for displaying Earth Engine image tiles to folium map\n",
        "# Establish a connection to Google Maps API for adding tile layers from GEE\n",
        "# def add_ee_layer(self, eeImageObject, visParams, name):\n",
        "#   mapID = ee.Image(eeImageObject).getMapId(visParams)\n",
        "#   folium.raster_layers.TileLayer(\n",
        "#     tiles = \"https://earthengine.googleapis.com/map/\"+mapID['mapid']+\n",
        "#       \"/{z}/{x}/{y}?token=\"+mapID['token'],\n",
        "#     attr = \"Map Data &copy; <a href='https://earthengine.google.com/'>Google Earth Engine</a>\",\n",
        "#     name = name,\n",
        "#     overlay = True,\n",
        "#     control = True\n",
        "#   ).add_to(self)\n",
        "\n",
        "# This works\n",
        "def add_ee_layer(self, eeImageObject, visParams, name):\n",
        "  tiles = ee.data.getTileUrl(eeImageObject.getMapId(visParams), 8014, 4817, 37)\n",
        "  tiles = tiles[:-12] + \"{z}/{x}/{y}\"\n",
        "  folium.raster_layers.TileLayer(\n",
        "    tiles = tiles,\n",
        "    attr = \"Map Data © Google Earth Engine\",\n",
        "    name = name,\n",
        "    overlay = True,\n",
        "    control = True\n",
        "  ).add_to(self)\n",
        "\n",
        "# Location to extract imagery for using geographic coordinates\n",
        "point = ee.Geometry.Polygon(  [[ -71.972474426004553, 42.602279713467297 ], \n",
        "                               [ -71.950438522043598, 42.602367785683853 ], \n",
        "                               [ -71.950535365247646, 42.615912367460069 ], \n",
        "                               [ -71.972576006685841, 42.615824276665819 ], \n",
        "                               [ -71.972474426004553, 42.602279713467297 ]]).buffer(3000)\n",
        "# Dates\n",
        "startDate = '2002-04-01'\n",
        "endDate = '2002-5-31'\n",
        "\n",
        "# Specify time period of interest\n",
        "fcc = ee.ImageCollection(\"LANDSAT/LT05/C01/T1_TOA\").filterBounds(point).filterDate(startDate, endDate).min()\n",
        "\n",
        "# Set visualization parameters\n",
        "# Check dataset's page for required parameters for visualization\n",
        "# Define dataset from image collection to visualize in the band list\n",
        "\n",
        "# ----FALSE COLOR COMPOSITE------\n",
        "fcc_visParams = {'min': 0,\n",
        "                 'max': 0.4,\n",
        "                 'gamma': [0.95, 1.1, 1],\n",
        "                 'bands': ['B5', 'B4', 'B3']}\n",
        "\n",
        "# ----TRUE COLOR COMPOSITE------\n",
        "tcc_visParams = {'min': 0.0,\n",
        "                 'max': 0.4,\n",
        "                 'bands':['B4', 'B3', 'B2']}\n",
        "\n",
        "# Add the tile layer of interest to the folium map\n",
        "folium.Map.add_ee_layer = add_ee_layer\n",
        "\n",
        "# Create a folium map object\n",
        "# Specify default location for map\n",
        "# Specify basemap: Folium defaults to openstreetmap basemap if a tile isn't specified\n",
        "imageryMap = folium.Map(location=[42.602279713467297, -71.972474426004553], zoom_start=10, height=500, tiles='Stamen Terrain')\n",
        "imageryMap.add_ee_layer(fcc.clip(point), fcc_visParams, 'False Color Composite')\n",
        "imageryMap.add_ee_layer(fcc.clip(point), tcc_visParams, 'True Color Composite')\n",
        "\n",
        "# Add a layer control panel to the map\n",
        "# Allows you to turn layers on and off\n",
        "imageryMap.add_child(folium.LayerControl())\n",
        "\n",
        "# Display the map\n",
        "display(imageryMap)"
      ],
      "execution_count": 26,
      "outputs": [
        {
          "output_type": "display_data",
          "data": {
            "text/html": [
              "<div style=\"width:100%;\"><div style=\"position:relative;width:100%;height:0;padding-bottom:60%;\"><iframe src=\"data:text/html;charset=utf-8;base64,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\" style=\"position:absolute;width:100%;height:100%;left:0;top:0;border:none !important;\" allowfullscreen webkitallowfullscreen mozallowfullscreen></iframe></div></div>"
            ],
            "text/plain": [
              "<folium.folium.Map at 0x7fe413cd3d68>"
            ]
          },
          "metadata": {
            "tags": []
          }
        }
      ]
    },
    {
      "cell_type": "code",
      "metadata": {
        "id": "Nue5fOHG3fVy",
        "colab_type": "code",
        "colab": {
          "base_uri": "https://localhost:8080/",
          "height": 163
        },
        "outputId": "6f3bb8fe-4fd8-4a5d-e9f3-34134c10c119"
      },
      "source": [
        "task = ee.batch.Export.image.toDrive(image=fcc,\n",
        "                                     description='myDescription',\n",
        "                                     folder='eePythonAPI',\n",
        "                                     fileNamePrefix='myFilePrefix')\n",
        "task.start()\n",
        "\n",
        "task.status()\n"
      ],
      "execution_count": 17,
      "outputs": [
        {
          "output_type": "execute_result",
          "data": {
            "text/plain": [
              "{'creation_timestamp_ms': 1574388667066,\n",
              " 'description': 'myDescription',\n",
              " 'id': 'EX6MZJW6Q4IFCNPXOIPO6ESZ',\n",
              " 'name': 'projects/earthengine-legacy/operations/EX6MZJW6Q4IFCNPXOIPO6ESZ',\n",
              " 'start_timestamp_ms': 0,\n",
              " 'state': 'READY',\n",
              " 'task_type': 'EXPORT_IMAGE',\n",
              " 'update_timestamp_ms': 1574388667066}"
            ]
          },
          "metadata": {
            "tags": []
          },
          "execution_count": 17
        }
      ]
    },
    {
      "cell_type": "code",
      "metadata": {
        "id": "wxvYnrnXCLYN",
        "colab_type": "code",
        "outputId": "3e5f3a77-c130-419c-f248-80c95e4fc4a1",
        "colab": {
          "base_uri": "https://localhost:8080/",
          "height": 35
        }
      },
      "source": [
        "import ee\n",
        "\n",
        "ee.Initialize()\n",
        "\n",
        "# Get a download URL for an image.\n",
        "image1 = ee.Image('srtm90_v4')\n",
        "path = image1.getDownloadUrl({\n",
        "    'scale': 30,\n",
        "    'crs': 'EPSG:4326',\n",
        "    'region': '[[-120, 35], [-119, 35], [-119, 34], [-120, 34]]'\n",
        "})\n",
        "print path"
      ],
      "execution_count": 0,
      "outputs": [
        {
          "output_type": "stream",
          "text": [
            "https://earthengine.googleapis.com/api/download?docid=61b84e597d0e45fe9471472fe95ab510&token=2b9000b5083d716646fa30b3ca266759\n"
          ],
          "name": "stdout"
        }
      ]
    },
    {
      "cell_type": "code",
      "metadata": {
        "id": "1VQSDzW_KSYG",
        "colab_type": "code",
        "outputId": "42cd2beb-13fd-4f79-bd23-8493cc2eeb39",
        "colab": {
          "base_uri": "https://localhost:8080/",
          "height": 983
        }
      },
      "source": [
        "#!/usr/bin/env python\n",
        "\"\"\"Where operator example.\n",
        "Select the forest classes from the MODIS land cover image and intersect them\n",
        "with elevations above 1000m.\n",
        "\"\"\"\n",
        "\n",
        "import ee\n",
        "import ee.mapclient\n",
        "\n",
        "ee.Initialize()\n",
        "ee.mapclient.centerMap(-113.41842, 40.055489, 6)\n",
        "\n",
        "elev = ee.Image('CGIAR/SRTM90_V4')\n",
        "cover = ee.Image('MODIS/051/MCD12Q1/2001_01_01').select('Land_Cover_Type_1')\n",
        "blank = ee.Image(0)\n",
        "\n",
        "\n",
        "# Where (1 <= cover <= 4) and (elev > 1000), set the output to 1.\n",
        "output = blank.where(\n",
        "    cover.lte(4).And(cover.gte(1)).And(elev.gt(1000)),\n",
        "    1)\n",
        "\n",
        "# Output contains 0s and 1s.  Mask it with itself to get rid of the 0s.\n",
        "result = output.mask(output)\n",
        "\n",
        "imageryMap = folium.Map(location=[42.2626,-71.8023], zoom_start=7, height=500, tiles='Stamen Terrain')\n",
        "imageryMap.add_ee_layer(result, {'palette': '00AA00'}, 'False Color Composite')\n",
        "display(imageryMap)"
      ],
      "execution_count": 10,
      "outputs": [
        {
          "output_type": "display_data",
          "data": {
            "text/html": [
              "<div style=\"width:100%;\"><div style=\"position:relative;width:100%;height:0;padding-bottom:60%;\"><iframe src=\"data:text/html;charset=utf-8;base64,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\" style=\"position:absolute;width:100%;height:100%;left:0;top:0;border:none !important;\" allowfullscreen webkitallowfullscreen mozallowfullscreen></iframe></div></div>"
            ],
            "text/plain": [
              "<folium.folium.Map at 0x7fd47ee1df28>"
            ]
          },
          "metadata": {
            "tags": []
          }
        }
      ]
    },
    {
      "cell_type": "code",
      "metadata": {
        "colab_type": "code",
        "outputId": "4b81495a-6fc2-4ace-9487-c51f0863131c",
        "id": "6n3ZivhExqEB",
        "colab": {
          "base_uri": "https://localhost:8080/",
          "height": 983
        }
      },
      "source": [
        "# https://developers.google.com/earth-engine/image_visualization\n",
        "# stack overflow thread:https://gis.stackexchange.com/questions/342022/trouble-plotting-earth-engine-images-with-folium-using-python\n",
        "# Import the Folium library \n",
        "# Basemap not automatically added when GEE tiles are added\n",
        "import folium\n",
        "\n",
        "## old code\n",
        "# Define a method for displaying Earth Engine image tiles to folium map\n",
        "# Establish a connection to Google Maps API for adding tile layers from GEE\n",
        "# def add_ee_layer(self, eeImageObject, visParams, name):\n",
        "#   mapID = ee.Image(eeImageObject).getMapId(visParams)\n",
        "#   folium.raster_layers.TileLayer(\n",
        "#     tiles = \"https://earthengine.googleapis.com/map/\"+mapID['mapid']+\n",
        "#       \"/{z}/{x}/{y}?token=\"+mapID['token'],\n",
        "#     attr = \"Map Data &copy; <a href='https://earthengine.google.com/'>Google Earth Engine</a>\",\n",
        "#     name = name,\n",
        "#     overlay = True,\n",
        "#     control = True\n",
        "#   ).add_to(self)\n",
        "\n",
        "def add_ee_layer(self, eeImageObject, visParams, name):\n",
        "  tiles = ee.data.getTileUrl(eeImageObject.getMapId(visParams), 8014, 4817, 37)\n",
        "  tiles = tiles[:-12] + \"{z}/{x}/{y}\"\n",
        "  folium.raster_layers.TileLayer(\n",
        "    tiles = tiles,\n",
        "    attr = \"Map Data © Google Earth Engine\",\n",
        "    name = name,\n",
        "    overlay = True,\n",
        "    control = True\n",
        "  ).add_to(self)\n",
        "\n",
        "# Location to extract imagery for using geographic coordinates\n",
        "point = ee.Geometry.Point([-71.8023,42.2626])\n",
        "# Dates\n",
        "startDate = '2018-01-01'\n",
        "endDate = '2019-12-31'\n",
        "\n",
        "# Specify time period of interest\n",
        "fcc = ee.ImageCollection(\"LANDSAT/LC08/C01/T1_TOA\").filterBounds(point).filterDate(startDate, endDate).min()\n",
        "\n",
        "# Set visualization parameters\n",
        "# Check dataset's page for required parameters for visualization\n",
        "# Define dataset from image collection to visualize in the band list\n",
        "\n",
        "# ----FALSE COLOR COMPOSITE------\n",
        "fcc_visParams = {'min': 0,\n",
        "                 'max': 0.5,\n",
        "                 'gamma': [0.95, 1.1, 1],\n",
        "                 'bands': ['B5', 'B4', 'B3']}\n",
        "\n",
        "# ----TRUE COLOR COMPOSITE------\n",
        "tcc_visParams = {'min': 0.0,\n",
        "                 'max': 0.4,\n",
        "                 'bands':['B4', 'B3', 'B2']}\n",
        "\n",
        "# Add the tile layer of interest to the folium map\n",
        "folium.Map.add_ee_layer = add_ee_layer\n",
        "\n",
        "# Create a folium map object\n",
        "# Specify default location for map\n",
        "# Specify basemap: Folium defaults to openstreetmap basemap if a tile isn't specified\n",
        "imageryMap = folium.Map(location=[42.2626,-71.8023], zoom_start=7, height=500, tiles='Stamen Terrain')\n",
        "imageryMap.add_ee_layer(fcc, fcc_visParams, 'False Color Composite')\n",
        "imageryMap.add_ee_layer(fcc, tcc_visParams, 'True Color Composite')\n",
        "\n",
        "# Add a layer control panel to the map\n",
        "# Allows you to turn layers on and off\n",
        "imageryMap.add_child(folium.LayerControl())\n",
        "\n",
        "# Display the map\n",
        "display(imageryMap)"
      ],
      "execution_count": 0,
      "outputs": [
        {
          "output_type": "display_data",
          "data": {
            "text/html": [
              "<div style=\"width:100%;\"><div style=\"position:relative;width:100%;height:0;padding-bottom:60%;\"><iframe src=\"data:text/html;charset=utf-8;base64,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\" style=\"position:absolute;width:100%;height:100%;left:0;top:0;border:none !important;\" allowfullscreen webkitallowfullscreen mozallowfullscreen></iframe></div></div>"
            ],
            "text/plain": [
              "<folium.folium.Map at 0x7feed6943860>"
            ]
          },
          "metadata": {
            "tags": []
          }
        }
      ]
    }
  ]
}